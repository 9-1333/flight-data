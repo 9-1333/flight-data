{
  "cells": [
    {
      "cell_type": "markdown",
      "metadata": {},
      "source": [
        "---\n",
        "title: \"뉴욕 비행장 데이터 분석\"\n",
        "subtitle: \"권서연, 김민채, 박재원, 오상원\"\n",
        "author: \"7조\"\n",
        "format: \n",
        "  revealjs:\n",
        "    highlight-style: gruvbox\n",
        "    incremental: true  \n",
        "    # logo: logo.png\n",
        "    css: styles.css\n",
        "    title-slide-attributes: \n",
        "      data-background-image: \"assets/title-bg.gif\"\n",
        "      data-background-size: cover\n",
        "    slide-attributes:\n",
        "      data-background-image: \"assets/bg.png\"\n",
        "      data-background-size: cover\n",
        "jupyter: python3\n",
        "---\n",
        "\n",
        "\n",
        "--- \n",
        "\n",
        "## 목차 {data-background-image=\"assets/bg.png\"}\n",
        "<div style=\"padding-left: 3rem !important;\">\n",
        "\n",
        "::: {.incremental}\n",
        "1. 데이터 설명  \n",
        "2. 분석 목표  \n",
        "3. 항공편 지연 분석  \n",
        "   - 시간대별  \n",
        "   - 계절별  \n",
        "   - 날씨별  \n",
        "4. 항공기 특성 분석  \n",
        "   - 엔진 개수에 따른 특수성  \n",
        "   - 생산 년도와 엔진 개수  \n",
        "\n",
        ":::\n",
        "</div>\n",
        "\n",
        "---\n",
        "\n",
        "\n",
        "## 데이터셋 정보 {data-background-image=\"assets/bg.png\"}\n"
      ],
      "id": "fe7f8f40"
    },
    {
      "cell_type": "code",
      "metadata": {},
      "source": [
        "import matplotlib.pyplot as plt\n",
        "import seaborn as sns\n",
        "import numpy as np\n",
        "import pandas as pd\n",
        "from nycflights13 import flights, planes, weather"
      ],
      "id": "b2fcd903",
      "execution_count": null,
      "outputs": []
    },
    {
      "cell_type": "markdown",
      "metadata": {},
      "source": [
        "![](https://docs.ropensci.org/dittodb/articles/relational-nycflights.svg)\n",
        "\n",
        "<div style=\"margin-top: 1rem; padding-left: 1rem; padding-bottom: 1.6rem;\">\n",
        "  <li style=\"font-size: 1.6rem; margin-top: 5px; font-family: Pretendard !important;\"> 데이터 구성: 2013년 뉴욕에서 출발한 모든 항공편의 운항 데이터 </li>\n",
        "  <li style=\"font-size: 1.6rem; margin-top: 5px; font-family: Pretendard !important;\"> 포함된 정보: 항공사, 공항, 날씨, 항공기 메타데이터 포함 </li>\n",
        "  <li style=\"font-size: 1.6rem; margin-top: 5px; font-family: Pretendard !important;\"> 분석 대상: `flights`, `planes`, `weather` 중심 </li>\n",
        "</div>\n",
        "\n",
        "---\n",
        "\n",
        "\n",
        "## 분석 목표 {data-background-image=\"assets/bg.png\"}\n",
        "\n",
        "\n",
        "\n",
        "\n",
        "\n",
        "\n",
        "## 1. 시간대별 지연 분석 {data-background-image=\"assets/bg.png\"}"
      ],
      "id": "66b1a0a7"
    },
    {
      "cell_type": "code",
      "metadata": {},
      "source": [
        "#| code-fold: false\n",
        "#| echo: true\n",
        "def divide_hour(hour):\n",
        "    if 6 <= hour < 12:\n",
        "        return 'morning'\n",
        "    if 12 <= hour < 18:\n",
        "        return 'lunch'\n",
        "    if 18 <= hour < 24:\n",
        "        return 'dinner'\n",
        "    return 'dawn'\n",
        "\n",
        "flights['time_of_day'] = flights['hour'].apply(divide_hour)\n",
        "result = flights.loc[:, ['hour', 'time_of_day']].head(3)"
      ],
      "id": "34f8b8f0",
      "execution_count": null,
      "outputs": []
    },
    {
      "cell_type": "markdown",
      "metadata": {},
      "source": [
        "::::: columns\n",
        "\n",
        "\n",
        ":::{.column width=\"50%\"}\n",
        "<div style=\"padding-bottom: 1rem;\"> \n",
        "- 설명: 출발 시간을 시간대별로 분류\n",
        "- 분류 기준: 새벽, 아침, 점심, 저녁\n",
        "- <span style=\"color: #ef4444\">목적: 각 시간대별 지연 패턴 분석</span>\n",
        "</div>\n",
        "\n",
        ":::\n",
        "\n",
        ":::{.column width=\"50%\"}\n",
        "<div style=\"padding-top: 2rem;\">"
      ],
      "id": "9d5e436b"
    },
    {
      "cell_type": "code",
      "metadata": {},
      "source": [
        "print(result)"
      ],
      "id": "32f5822b",
      "execution_count": null,
      "outputs": []
    },
    {
      "cell_type": "markdown",
      "metadata": {},
      "source": [
        "</div>\n",
        "\n",
        ":::\n",
        ":::::\n",
        "\n",
        "\n",
        "## 1. 시간대별 지연 분석 {data-background-image=\"assets/bg.png\"}\n",
        "\n",
        ":::::columns\n",
        ":::{.column width=\"50%\"}"
      ],
      "id": "8a0d6a09"
    },
    {
      "cell_type": "code",
      "metadata": {},
      "source": [
        "#| eval: false\n",
        "#| echo: true\n",
        "times = flights.groupby(['time_of_day']).size()\n",
        "plt.bar(['dawn', 'morning', 'lunch', 'dinner'], \n",
        "        times.values[[0, 3, 2, 1]])\n",
        "plt.xlabel('time')\n",
        "plt.ylabel('flights')\n",
        "plt.title('flights by time')\n",
        "plt.show()"
      ],
      "id": "08cfa410",
      "execution_count": null,
      "outputs": []
    },
    {
      "cell_type": "markdown",
      "metadata": {},
      "source": [
        ":::\n",
        "\n",
        ":::{.column width=\"50%\"}\n",
        "<div style=\"padding-top: 0px; padding-left: 2rem;\">"
      ],
      "id": "dec53e1d"
    },
    {
      "cell_type": "code",
      "metadata": {},
      "source": [
        "#| eval: true\n",
        "#| echo: false\n",
        "times = flights.groupby(['time_of_day']).size()\n",
        "plt.figure(figsize=(5, 3))\n",
        "plt.bar(['dawn', 'morning', 'lunch', 'dinner'], \n",
        "        times.values[[0, 3, 2, 1]])\n",
        "plt.xlabel('time')\n",
        "plt.ylabel('flights')\n",
        "plt.title('flights by time')\n",
        "plt.show()"
      ],
      "id": "a89af26f",
      "execution_count": null,
      "outputs": []
    },
    {
      "cell_type": "markdown",
      "metadata": {},
      "source": [
        "<li>새벽에는 항공편 수가 거의 X</li>\n",
        "<li>아침과 점심에 가장 많음</li>\n",
        "<li>저녁시간에는 항공편 수 감소</li>\n",
        "\n",
        "</div>\n",
        "\n",
        ":::\n",
        "<p style=\"margin-top: 5rem;\">\n",
        "- <span style=\"color: #ef4444; font-style: italic;\">아침, 점심에 지연이 많겠지?</span>\n",
        "\n",
        "</p>\n",
        "\n",
        ":::::\n",
        "\n",
        "\n",
        "## 1. 시간대별 지연 분석 {data-background-image=\"assets/bg.png\"}\n",
        "\n",
        "<h6 style=\"font-size:26px; padding-top: 0px; color: #374151 !important;\"> 15분 이상 지연된 비행기들 살펴보기 </h6>\n",
        "\n",
        ":::::columns\n",
        "\n",
        ":::{.column width=\"50%\"}"
      ],
      "id": "5f01beec"
    },
    {
      "cell_type": "code",
      "metadata": {},
      "source": [
        "#| code-fold: true\n",
        "#| echo: true\n",
        "colors = [\"#a1a1aa\", \"#FF9999\",\"#a1a1aa\", \"#FF9999\"]\n",
        "times = flights.groupby(['time_of_day']).size()\n",
        "plt.figure(figsize=(5, 3))\n",
        "plt.bar(['dawn', 'morning', 'lunch', 'dinner'], \n",
        "        times.values[[0, 3, 2, 1]],\n",
        "        color=colors)\n",
        "plt.xlabel('time')\n",
        "plt.ylabel('flights')\n",
        "plt.title('flights by time')\n",
        "plt.show()"
      ],
      "id": "f0c66bc4",
      "execution_count": null,
      "outputs": []
    },
    {
      "cell_type": "markdown",
      "metadata": {},
      "source": [
        "<li><span style=\"margin-left: 2rem;\">비행편 수</span></li>\n",
        ":::\n",
        "\n",
        ":::{.column width=\"50%\"}"
      ],
      "id": "7c4d09c5"
    },
    {
      "cell_type": "code",
      "metadata": {},
      "source": [
        "#| code-fold: true\n",
        "#| echo: true\n",
        "\n",
        "# 15분 이상 지연된 비행기들\n",
        "delayed = flights.loc[flights['dep_delay'] >= 15, :]\n",
        "\n",
        "# 지연된 비행기 시간대별로 분류\n",
        "delay_cnt = delayed.groupby('time_of_day').size()\n",
        "plt.figure(figsize=(5, 3))\n",
        "plt.bar(['dawn', 'morning', 'lunch', 'dinner'],\n",
        "       delay_cnt.values[[0, 3, 2, 1]],\n",
        "       color=colors)\n",
        "plt.xlabel('time')\n",
        "plt.ylabel('delayed flights')\n",
        "plt.title('delay by time')\n",
        "plt.show()"
      ],
      "id": "25888c33",
      "execution_count": null,
      "outputs": []
    },
    {
      "cell_type": "markdown",
      "metadata": {},
      "source": [
        "<li><span style=\"margin-left: 2rem;\">지연된 비행기 수</span></li>\n",
        ":::\n",
        "\n",
        "- <span style=\"position: absolute; top: 100;\">ㅇㅇㅇㅇ</span>\n",
        "\n",
        ":::"
      ],
      "id": "82ee6bb7"
    }
  ],
  "metadata": {
    "kernelspec": {
      "name": "python3",
      "language": "python",
      "display_name": "Python 3 (ipykernel)",
      "path": "C:\\Users\\USER\\AppData\\Roaming\\Python\\share\\jupyter\\kernels\\python3"
    }
  },
  "nbformat": 4,
  "nbformat_minor": 5
}